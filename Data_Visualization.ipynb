{
 "cells": [
  {
   "cell_type": "code",
   "execution_count": 2,
   "metadata": {},
   "outputs": [],
   "source": [
    "import os\n",
    "import sys"
   ]
  },
  {
   "cell_type": "code",
   "execution_count": null,
   "metadata": {},
   "outputs": [],
   "source": [
    "import bar_chart_race as bcr\n",
    "\n",
    "df = bcr.load_dataset('covid19_tutorial')\n",
    "\n",
    "bcr.bar_chart_race(\n",
    "    df=df,\n",
    "    filename='covid19_horiz.mp4',\n",
    "    orientation='h',\n",
    "    sort='desc',\n",
    "    n_bars=6,\n",
    "    fixed_order=False,\n",
    "    fixed_max=True,\n",
    "    steps_per_period=10,\n",
    "    interpolate_period=False,\n",
    "    label_bars=True,\n",
    "    bar_size=.95,\n",
    "    period_label={'x': .99, 'y': .25, 'ha': 'right', 'va': 'center'},\n",
    "    period_fmt='%B %d, %Y',\n",
    "    period_summary_func=lambda v, r: {'x': .99, 'y': .18,\n",
    "                                      's': f'Total deaths: {v.nlargest(6).sum():,.0f}',\n",
    "                                      'ha': 'right', 'size': 8, 'family': 'Courier New'},\n",
    "    perpendicular_bar_func='median',\n",
    "    period_length=500,\n",
    "    figsize=(5, 3),\n",
    "    dpi=144,\n",
    "    cmap='dark12',\n",
    "    title='COVID-19 Deaths by Country',\n",
    "    title_size='',\n",
    "    bar_label_size=7,\n",
    "    tick_label_size=7,\n",
    "    shared_fontdict={'family' : 'Helvetica', 'color' : '.1'},\n",
    "    scale='linear',\n",
    "    writer=None,\n",
    "    fig=None,\n",
    "    bar_kwargs={'alpha': .7},\n",
    "    filter_column_colors=False)  "
   ]
  }
 ],
 "metadata": {
  "kernelspec": {
   "display_name": "Python 3",
   "language": "python",
   "name": "python3"
  },
  "language_info": {
   "codemirror_mode": {
    "name": "ipython",
    "version": 3
   },
   "file_extension": ".py",
   "mimetype": "text/x-python",
   "name": "python",
   "nbconvert_exporter": "python",
   "pygments_lexer": "ipython3",
   "version": "3.8.2"
  }
 },
 "nbformat": 4,
 "nbformat_minor": 4
}
